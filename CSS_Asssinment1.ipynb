{
  "nbformat": 4,
  "nbformat_minor": 0,
  "metadata": {
    "colab": {
      "provenance": []
    },
    "kernelspec": {
      "name": "python3",
      "display_name": "Python 3"
    },
    "language_info": {
      "name": "python"
    }
  },
  "cells": [
    {
      "cell_type": "markdown",
      "source": [],
      "metadata": {
        "id": "sNuLgNdmzB6o"
      }
    },
    {
      "cell_type": "markdown",
      "source": [],
      "metadata": {
        "id": "1tO3uzb7pTkY"
      }
    },
    {
      "cell_type": "markdown",
      "source": [
        "Q1.Create a navigation bar similar to the below-mentioned image. The navigation bar must contain 5 navigation links that are properly placed within the navigation bar using the CSS box model. The navigation items must change their text color on hover."
      ],
      "metadata": {
        "id": "qTkfjtsRqNaZ"
      }
    },
    {
      "cell_type": "code",
      "source": [
        "<!DOCTYPE html>\n",
        "<html lang=\"en\">\n",
        "<head>\n",
        "    <meta charset=\"UTF-8\">\n",
        "    <meta name=\"viewport\" content=\"width=device-width, initial-scale=1.0\">\n",
        "    <title>Navigation Bar</title>\n",
        "    <link rel=\"stylesheet\" href=\"style sheet2.css\">\n",
        "</head>\n",
        "<body>\n",
        "    <nav class=\"navbar\">\n",
        "        <div class=\"nav-links\">\n",
        "            <a href=\"#\">Home</a>\n",
        "            <a href=\"#\">About Us</a>\n",
        "            <a href=\"#\">Contect</a>\n",
        "            <a href=\"#\">Blog</a>\n",
        "            <a href=\"#\">Login</a>\n",
        "        </div>"
      ],
      "metadata": {
        "id": "eQL4afXkqQL5"
      },
      "execution_count": null,
      "outputs": []
    },
    {
      "cell_type": "code",
      "source": [
        ".navbar {background-color: aqua;\n",
        "padding: 15px 10px;\n",
        "display: flex;\n",
        "justify-content:space-between;\n",
        "align-items: center;\n",
        "box-shadow: 0 2px 5px rgpa(0, 0, 0, 2);\n",
        "}\n",
        "     .nav-links {\n",
        "        display: flex;\n",
        "            gap: 200px;\n",
        "    }\n",
        "    .nav-links a {\n",
        "      color: #dc1f1f;\n",
        "      text-decoration: underline;\n",
        "      padding: 8px 12px;\n",
        "      font-size: 20px;\n",
        "         }"
      ],
      "metadata": {
        "id": "v_K3ggilqaKY"
      },
      "execution_count": null,
      "outputs": []
    },
    {
      "cell_type": "markdown",
      "source": [
        "Q2.Create a div centered with an image and paragraph similar to the image mentioned below."
      ],
      "metadata": {
        "id": "YAnBDQhCpZVE"
      }
    },
    {
      "cell_type": "code",
      "source": [
        "<!DOCTYPE html>\n",
        "<html lang=\"en\">\n",
        "<head>\n",
        "    <meta charset=\"UTF-8\">\n",
        "    <meta name=\"viewport\" content=\"width=device-width, initial-scale=1.0\">\n",
        "    <title>Image and Peragraph</title>\n",
        "    <link rel=\"stylesheet\" href=\"style2.css\">\n",
        "</head>\n",
        "<body>\n",
        "    <div class=\"centered-content\">\n",
        "        <img src=\"data:image/jpeg;base64,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\" alt=\"image\">\n",
        "    <p>This is Nature of my buityful place.</p>\n",
        "     </div>\n",
        "\n",
        "</body>\n",
        "</html>"
      ],
      "metadata": {
        "id": "4jn48HbipYw3"
      },
      "execution_count": null,
      "outputs": []
    },
    {
      "cell_type": "code",
      "source": [
        "body {\n",
        "      margin: 0;\n",
        "      padding: 0;\n",
        "      display: flex;\n",
        "      justify-content: center;\n",
        "      align-items: center;\n",
        "      height: 100vh;\n",
        "      background-color: #f1eeee;\n",
        "    }\n",
        "    .centered-content {\n",
        "      text-align: center;\n",
        "      background-color: #fff;\n",
        "      padding: 20px;\n",
        "      border-radius: 12px;\n",
        "      box-shadow: 0 4px 15px rgba(0, 0, 0, 0.3);\n",
        "      max-width: 600px;\n",
        "    }\n",
        "    .centered-content img {\n",
        "      width: 100%;\n",
        "      height: auto;\n",
        "      border-radius: 10px;\n",
        "    }\n",
        "    .centered-content p {\n",
        "      margin-top: 15px;\n",
        "      font-size: 1.1rem;\n",
        "      color: #333;\n",
        "      line-height: 1.5;\n",
        "    }"
      ],
      "metadata": {
        "id": "-ubbvlAUphVe"
      },
      "execution_count": null,
      "outputs": []
    },
    {
      "cell_type": "markdown",
      "source": [
        "Q3.& Create a simple webpage with an image and make the image circular using border-radius"
      ],
      "metadata": {
        "id": "2eykMfz6rxBk"
      }
    },
    {
      "cell_type": "code",
      "source": [
        "<!DOCTYPE html>\n",
        "<html lang=\"en\">\n",
        "<head>\n",
        "    <meta charset=\"UTF-8\">\n",
        "    <meta name=\"viewport\" content=\"width=device-width, initial-scale=1.0\">\n",
        "    <title>Navication</title>\n",
        "    <link rel=\"Stylesheet\" href=\"Style1.css\">\n",
        "</head>\n",
        "<body>\n",
        "    <nav>\n",
        "        <a href=\"#\">Home</a>\n",
        "        <a href=\"#\">login</a>\n",
        "        <a href=\"#\">About</a>\n",
        "        <a href=\"#\">Services</a>\n",
        "        <a href=\"#\">Contect</a>\n",
        "    </nav>"
      ],
      "metadata": {
        "id": "mnxS1U3Rr85Y"
      },
      "execution_count": null,
      "outputs": []
    },
    {
      "cell_type": "code",
      "source": [
        "body {\n",
        "    margin: 0%;\n",
        "    padding: 0%;\n",
        "    font-family: Arial, Helvetica, sans-serif;\n",
        "    background-color: rgb(58, 35, 82);\n",
        "}\n",
        "nav{\n",
        "    background-color: aliceblue;\n",
        "    padding: 15px 10px;\n",
        "    box-shadow: 0 4px 15px rgba(0, 0, 0, 0.2);\n",
        "    display: flex;\n",
        "    justify-content: center;\n",
        "    border-radius: 12px;\n",
        "    margin: 30px auto;\n",
        "    width: fit-content;\n",
        "}\n",
        "nav a {\n",
        "    text-decoration: none;\n",
        "    color: #171111;\n",
        "    padding: 12px;\n",
        "    margin: 0 50px;\n",
        "    font-weight: bold;\n",
        "}\n",
        "nav a:nth-child(1) {\n",
        "    border: 4px solid #3498db;\n",
        "    border-radius : 8px;\n",
        "}\n",
        "nav a:nth-child(2) {\n",
        "    border: 4px dashed red ;\n",
        "    border-radius : 8px;\n",
        "}\n",
        "nav a:nth-child(3) {\n",
        "    border: dotted orchid;\n",
        "    border-radius: 8px;\n",
        "}\n",
        "nav a:nth-child(4) {\n",
        "    border: 4px double orangered;\n",
        "    border-radius: 8px;\n",
        "}\n",
        "nav a:nth-child(5) {\n",
        "    border: 4px solid rgb(192, 25, 142);\n",
        "    border-radius: 8px;\n",
        "}"
      ],
      "metadata": {
        "id": "wrKax1lcsB90"
      },
      "execution_count": null,
      "outputs": []
    },
    {
      "cell_type": "markdown",
      "source": [
        "Q5.Create a simple blog website about Google fonts. The webpage must have the heading with “Oswald” font\n",
        "align center to the page, below the heading have an image of Google fonts and a paragraph about Google\n",
        "fonts in font “Montserrat” paragraph font style should be“montserrat” font&"
      ],
      "metadata": {
        "id": "vcUBH7c4axgq"
      }
    },
    {
      "cell_type": "code",
      "source": [
        "<!DOCTYPE html>\n",
        "<html lang=\"en\">\n",
        "<head>\n",
        "    <meta charset=\"UTF-8\">\n",
        "    <meta name=\"viewport\" content=\"width=device-width, initial-scale=1.0\">\n",
        "    <title>Google fonts Blogs</title>\n",
        "    <link href=\"https://fonts.googleapis.com/css2?family=Montserrat&family=Oswald&display=swap\" rel=\"stylesheet\">\n",
        "    <style>\n",
        "        body {\n",
        "            margin: auto;\n",
        "            padding: 0%;\n",
        "            background-color: antiquewhite;\n",
        "            font-family: 'montserrat' sans-serif;\n",
        "                    }\n",
        "        h1 {\n",
        "            font-family: 'Oswald', sans-serif;\n",
        "            text-align: center;\n",
        "            margin-top: 40px;\n",
        "            font-size: 3rem;\n",
        "            color: #333;\n",
        "        }\n",
        "        .container {\n",
        "            max-width: 800px;\n",
        "            margin: 4px auto;\n",
        "            padding: 0% 20px;\n",
        "            text-align: center;\n",
        "        }\n",
        "        .container img {\n",
        "            max-width: 100px;\n",
        "            height: 100px;\n",
        "            border-radius: 10px;\n",
        "            box-shadow: 0 4px 12px rgba(red, green, blue, alpha);\n",
        "        }\n",
        "        .container p {\n",
        "            margin-top: 20px;\n",
        "            font-size: 20px;\n",
        "            line-height: 1.1rem;\n",
        "            color: blue;\n",
        "        }\n",
        "    </style>\n",
        "</head>\n",
        "\n",
        "<body>\n",
        "    <h1>\n",
        "        Google Fonts\n",
        "    </h1>\n",
        "    <div class=\"container\">\n",
        "        <img src=\"https://www.google.com/url?sa=i&url=https%3A%2F%2Fdesignforhackers.com%2Fblog%2Fgoogles-new-logo-font%2F&psig=AOvVaw2yF3KTC8B0yU_AQf1TbPSI&ust=1752110487669000&source=images&cd=vfe&opi=89978449&ved=0CBEQjRxqFwoTCKip0rLUro4DFQAAAAAdAAAAABAE\" alt=\"Google Fonts\">\n",
        "        <p>\n",
        "            Making the web more beautiful, fast and open through great typography.Its open source plateform.\n",
        "        </p>\n",
        "\n",
        "</body>\n",
        "</html>"
      ],
      "metadata": {
        "id": "f_rJ2Ukha1Tk"
      },
      "execution_count": null,
      "outputs": []
    },
    {
      "cell_type": "markdown",
      "source": [
        "Q6-Create a simple website as mentioned in the below image. You can get the assets by visiting https:// pwskills.com/about-us."
      ],
      "metadata": {
        "id": "Ly4GauClbqMx"
      }
    },
    {
      "cell_type": "code",
      "source": [
        "<!DOCTYPE html>\n",
        "<html lang=\"en\">\n",
        "<head>\n",
        "    <meta charset=\"UTF-8\">\n",
        "    <meta name=\"viewport\" content=\"width=device-width, initial-scale=1.0\">\n",
        "    <title>PW Skills</title>\n",
        "    <style>\n",
        "        h1 {\n",
        "            text-align: center;\n",
        "            text-decoration: solid;\n",
        "            margin-top: 50px;\n",
        "            color: brown;\n",
        "        }\n",
        "        .content {\n",
        "            padding: 20px 70px;\n",
        "            border: 6px solid #3498db;\n",
        "            width: auto;\n",
        "\n",
        "        }\n",
        "        .content p {\n",
        "            padding: 20px 30px;\n",
        "            text-align: justify;\n",
        "            color: blueviolet;\n",
        "        }\n",
        "        .content img {\n",
        "            padding: 0px 30px;\n",
        "        }\n",
        "        hr {\n",
        "             border: 2px solid #333;\n",
        "            margin: 20px auto;\n",
        "        }\n",
        "    </style>\n",
        "</head>\n",
        "<body>\n",
        "\n",
        "    <div class=\"content\">\n",
        "        <h1>About Us</h1>\n",
        "        <p>\n",
        "            PW Skills' mission is to permeate through every student/professional's outlook towards jobs and change their attitude and perspective from \"How Can I Do It?\" to \"Of Course I Can Do It\". We aim to do this by providing exceptional up skilling courses at affordable rates, while being tech-forward so anyone, anywhere can access and improve their ability to be successful in life.\n",
        "        </p>\n",
        "        <img src=\"C:\\Users\\AVITA\\Desktop\\aboutUs.png\" alt=\"PW Skills\">\n",
        "    </div>\n",
        "</body>"
      ],
      "metadata": {
        "id": "-LE4llSMsxIR"
      },
      "execution_count": null,
      "outputs": []
    },
    {
      "cell_type": "markdown",
      "source": [
        "Q7-Create a simple webpage with a card similar to question number 2. The card must be semi-transparent as default and on hovering the card must be displayed clearly. Use CSS opacity to achieve this output"
      ],
      "metadata": {
        "id": "lO3ly9wHcV0h"
      }
    },
    {
      "cell_type": "code",
      "source": [
        "<!DOCTYPE html>\n",
        "<html lang=\"en\">\n",
        "<head>\n",
        "  <meta charset=\"UTF-8\">\n",
        "  <title>Semi-Transparent Hover Card</title>\n",
        "  <style>\n",
        "    body {\n",
        "      margin: 0;\n",
        "      padding: 0;\n",
        "      background-color: #e0e0e0;\n",
        "      font-family: Arial, sans-serif;\n",
        "      display: flex;\n",
        "      justify-content: center;\n",
        "      align-items: center;\n",
        "      height: 100vh;\n",
        "    }\n",
        "\n",
        "    .card {\n",
        "      width: 320px;\n",
        "      padding: 20px;\n",
        "      background-color: white;\n",
        "      border-radius: 10px;\n",
        "      box-shadow: 0 4px 12px rgba(0, 0, 0, 0.2);\n",
        "      opacity: 0.5; /* semi-transparent */\n",
        "      transition: opacity 0.4s ease;\n",
        "      text-align: center;\n",
        "    }\n",
        "\n",
        "    .card:hover {\n",
        "      opacity: 1; /* fully visible on hover */\n",
        "    }\n",
        "\n",
        "    .card img {\n",
        "      width: 100%;\n",
        "      border-radius: 8px;\n",
        "      margin-bottom: 15px;\n",
        "    }\n",
        "\n",
        "    .card h3 {\n",
        "      margin: 10px 0;\n",
        "      color: #333;\n",
        "    }\n",
        "\n",
        "    .card p {\n",
        "      color: #555;\n",
        "      font-size: 1rem;\n",
        "    }\n",
        "  </style>\n",
        "</head>\n",
        "<body>\n",
        "\n",
        "  <div class=\"card\">\n",
        "    <img src=\"C:\\Users\\AVITA\\Desktop\\aboutUs.png\" alt=\"Card Image\">\n",
        "    <h3>Learning CSS Effects</h3>\n",
        "    <p>This card uses <strong>opacity</strong> for a hover effect. Try hovering over it!</p>\n",
        "  </div>\n",
        "\n",
        "</body>\n",
        "</html>"
      ],
      "metadata": {
        "id": "vhHeH-3hcWTd"
      },
      "execution_count": null,
      "outputs": []
    },
    {
      "cell_type": "markdown",
      "source": [
        "Q8- Create a simple list of items as mentioned in the below image."
      ],
      "metadata": {
        "id": "XWx-2Ot_cW5N"
      }
    },
    {
      "cell_type": "code",
      "source": [
        "<!DOCTYPE html>\n",
        "<html lang=\"en\">\n",
        "<head>\n",
        "    <meta charset=\"UTF-8\">\n",
        "    <meta name=\"viewport\" content=\"width=device-width, initial-scale=1.0\">\n",
        "    <title>Simple List</title>\n",
        "    <style>\n",
        "        <body> {\n",
        "            border: 2px solid black;\n",
        "             padding: 10%;\n",
        "            border-radius: 20px;\n",
        "        }\n",
        "         div {\n",
        "      border: 2px solid #333;\n",
        "      padding: 10px;\n",
        "      width: 300px;\n",
        "      background-color: #f9f9f9;\n",
        "    }\n",
        "        <\\body>\n",
        "    </style>\n",
        "</head>\n",
        "<body>\n",
        "    <div>\n",
        "    <h1>Requirements</h1>\n",
        "        <ol type=\"I\">\n",
        "            <li>system with i3 processor or better</li>\n",
        "            <li>At least 4 GB RAM.</li>\n",
        "            <li>Workin Internet connection</li>\n",
        "            <li>Dedication to learn</li>\n",
        "        </ol>\n",
        "        </div>\n",
        "\n",
        "\n",
        "</body>\n",
        "</html>"
      ],
      "metadata": {
        "id": "_pA1KcEVcXYc"
      },
      "execution_count": null,
      "outputs": []
    }
  ]
}